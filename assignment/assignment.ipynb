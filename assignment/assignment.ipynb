{
  "cells": [
    {
      "cell_type": "markdown",
      "id": "13ad028b-72b7-43ed-aa78-96fd4e518040",
      "metadata": {
        "id": "13ad028b-72b7-43ed-aa78-96fd4e518040"
      },
      "source": [
        "# Assignment: Data Wrangling"
      ]
    },
    {
      "cell_type": "code",
      "source": [
        "! git clone https://github.com/DS3001/wrangling"
      ],
      "metadata": {
        "colab": {
          "base_uri": "https://localhost:8080/"
        },
        "id": "mpxqX35TGZ1W",
        "outputId": "fc6864f6-8092-4cbf-9fa2-dcc57729e8c7"
      },
      "id": "mpxqX35TGZ1W",
      "execution_count": null,
      "outputs": [
        {
          "output_type": "stream",
          "name": "stdout",
          "text": [
            "fatal: destination path 'wrangling' already exists and is not an empty directory.\n"
          ]
        }
      ]
    },
    {
      "cell_type": "markdown",
      "id": "5735a4d4-8be8-433a-a351-70eb8002e632",
      "metadata": {
        "id": "5735a4d4-8be8-433a-a351-70eb8002e632"
      },
      "source": [
        "**Q1.** Open the \"tidy_data.pdf\" document in the repo, which is a paper called Tidy Data by Hadley Wickham.\n",
        "\n",
        "  1. Read the abstract. What is this paper about?\n",
        "  2. Read the introduction. What is the \"tidy data standard\" intended to accomplish?\n",
        "  3. Read the intro to section 2. What does this sentence mean: \"Like families, tidy datasets are all alike but every messy dataset is messy in its own way.\" What does this sentence mean: \"For a given dataset, it’s usually easy to figure out what are observations and what are variables, but it is surprisingly difficult to precisely define variables and observations in general.\"\n",
        "  4. Read Section 2.2. How does Wickham define values, variables, and observations?\n",
        "  5. How is \"Tidy Data\" defined in section 2.3?\n",
        "  6. Read the intro to Section 3 and Section 3.1. What are the 5 most common problems with messy datasets? Why are the data in Table 4 messy? What is \"melting\" a dataset?\n",
        "  7. Why, specifically, is table 11 messy but table 12 tidy and \"molten\"?\n",
        "  8. Read Section 6. What is the \"chicken-and-egg\" problem with focusing on tidy data? What does Wickham hope happens in the future with further work on the subject of data wrangling?"
      ]
    },
    {
      "cell_type": "markdown",
      "source": [
        "1. The paper is about how to create tidy datasets from messy datasets, and the advantages associated with having a tidy dataset. A tidy dataset is defined as a dataset with each variable as a column, each observation is a row, and each type of observational unit is a table.\n",
        "\n",
        "2. A tidy data standard attempts to make the data cleaning process much easier as you don't have to start from scratch while cleaning each new dataset. It reduces the time taken to develop tools that work well together so that you can spend time analyzing the interesting problem rather than cleaning the data.\n",
        "\n",
        "3. Tidy data provides a standard way to link the physical layout of the data to its meaning, whereas messy datasets all have different problems and different layouts that require custom approaches to analyze. It's hard to understand the relationships between variables and if they link to a specific observation, and different situations might call for different variables."
      ],
      "metadata": {
        "id": "p-bPpG0jGsQK"
      },
      "id": "p-bPpG0jGsQK"
    },
    {
      "cell_type": "markdown",
      "source": [
        "4. Values: numbers or strings that belong to a variable and an observation. Variables: contain all values that measure the same underlying attribute across units. Observations: contains all values measured on the same unit across attributes\n",
        "\n",
        "5. Tidy data maps the meaning of a dataset to its structure. Each variable is a column, every observation is a row, and each type of observational unit forms a table.\n",
        "\n",
        "6. The five most common problems with data are column headers are values instead of variable names, multiple variables are stored in one column, variables are stored in both rows and columns, multiple types of observational units are stored in the same table, and a single observational unit is stored in multiple tables. Table 4 is messy because variables form both rows and columns, and column names are values. Melting turns columns into rows.\n",
        "\n",
        "7. Table 11 is messy because variable are stored in both columns and rows (id, year month stored within columns, d1-d31 stored across columns, and tmin and tmax stored across rows). Table 12 is molten because it has been melted so that columns have been turned into rows. The dates have been turned into rows, and tmax and tmin are now columns.\n",
        "\n",
        "8. The chicken and egg problem with tidy data is that tidy data will always be linked to tidy tools, so there is the possibility of independently changing structure and data tools without improving workflow. Wickham hopes that in the future, others will build on the idea of tidy data and develop better tools and ideas, as well as address further unanswered problems with data cleaning."
      ],
      "metadata": {
        "id": "ElO8U1xbKGwQ"
      },
      "id": "ElO8U1xbKGwQ"
    },
    {
      "cell_type": "markdown",
      "id": "da879ea7-8aac-48a3-b6c2-daea56d2e072",
      "metadata": {
        "id": "da879ea7-8aac-48a3-b6c2-daea56d2e072"
      },
      "source": [
        "**Q2.** This question provides some practice cleaning variables which have common problems.\n",
        "1. Numeric variable: For `./data/airbnb_hw.csv`, clean the `Price` variable as well as you can, and explain the choices you make. How many missing values do you end up with? (Hint: What happens to the formatting when a price goes over 999 dollars, say from 675 to 1,112?)\n",
        "2. Categorical variable: For the `./data/sharks.csv` data covered in the lecture, clean the \"Type\" variable as well as you can, and explain the choices you make.\n",
        "3. Dummy variable: For the pretrial data covered in the lecture, clean the `WhetherDefendantWasReleasedPretrial` variable as well as you can, and, in particular, replace missing values with `np.nan`.\n",
        "4. Missing values, not at random: For the pretrial data covered in the lecture, clean the `ImposedSentenceAllChargeInContactEvent` variable as well as you can, and explain the choices you make. (Hint: Look at the `SentenceTypeAllChargesAtConvictionInContactEvent` variable.)"
      ]
    },
    {
      "cell_type": "code",
      "source": [
        "import numpy as np\n",
        "import pandas as pd"
      ],
      "metadata": {
        "id": "ARgdLqqx1YA7"
      },
      "id": "ARgdLqqx1YA7",
      "execution_count": null,
      "outputs": []
    },
    {
      "cell_type": "code",
      "source": [
        "#get DFs from csv\n",
        "\n",
        "a_df = pd.read_csv('/content/wrangling/assignment/data/airbnb_hw.csv',low_memory=False)\n",
        "\n",
        "s_df = pd.read_csv('/content/wrangling/assignment/data/sharks.csv',low_memory=False)"
      ],
      "metadata": {
        "id": "XMWdQdCK12WK"
      },
      "id": "XMWdQdCK12WK",
      "execution_count": null,
      "outputs": []
    },
    {
      "cell_type": "code",
      "source": [
        "#Q2 part 1\n",
        "\n",
        "var = \"Price\"\n",
        "\n",
        "#get rid of commas\n",
        "a_df[var] = a_df[var].str.replace(',',\"\")\n",
        "\n",
        "print(a_df[\"Price\"].describe())"
      ],
      "metadata": {
        "colab": {
          "base_uri": "https://localhost:8080/"
        },
        "id": "sR1dnQFJKtD1",
        "outputId": "2749987c-0a3c-43f1-ecd7-cc729e780a46"
      },
      "id": "sR1dnQFJKtD1",
      "execution_count": null,
      "outputs": [
        {
          "output_type": "stream",
          "name": "stdout",
          "text": [
            "count     30478\n",
            "unique      511\n",
            "top         150\n",
            "freq       1481\n",
            "Name: Price, dtype: object\n"
          ]
        }
      ]
    },
    {
      "cell_type": "code",
      "source": [
        "#covert to numeric & make erros nan\n",
        "\n",
        "a_df[var] = pd.to_numeric(a_df[var], errors='coerce')\n",
        "print(a_df[var].describe())\n",
        "\n",
        "a_df[var].hist()"
      ],
      "metadata": {
        "colab": {
          "base_uri": "https://localhost:8080/",
          "height": 609
        },
        "id": "nAG4QoJ3K5WD",
        "outputId": "16a9d8d2-cbfa-43c1-d1df-843ad39e8da0"
      },
      "id": "nAG4QoJ3K5WD",
      "execution_count": null,
      "outputs": [
        {
          "output_type": "stream",
          "name": "stdout",
          "text": [
            "count    30478.000000\n",
            "mean       163.589737\n",
            "std        197.785454\n",
            "min         10.000000\n",
            "25%         80.000000\n",
            "50%        125.000000\n",
            "75%        195.000000\n",
            "max      10000.000000\n",
            "Name: Price, dtype: float64\n"
          ]
        },
        {
          "output_type": "execute_result",
          "data": {
            "text/plain": [
              "<Axes: >"
            ]
          },
          "metadata": {},
          "execution_count": 28
        },
        {
          "output_type": "display_data",
          "data": {
            "text/plain": [
              "<Figure size 640x480 with 1 Axes>"
            ],
            "image/png": "[encoded data removed]"
          },
          "metadata": {}
        }
      ]
    },
    {
      "cell_type": "code",
      "source": [
        "#find total missing\n",
        "\n",
        "#make column tracking if price is nan\n",
        "a_df[var+'_nan'] = a_df[var].isnull()\n",
        "\n",
        "#sum all nans\n",
        "print('Total Missings: \\n', sum(a_df[var+'_nan']),'\\n')\n"
      ],
      "metadata": {
        "colab": {
          "base_uri": "https://localhost:8080/"
        },
        "id": "MNVt7mWdIkDJ",
        "outputId": "d98b9c14-1954-45e2-f09c-ff485f68179c"
      },
      "id": "MNVt7mWdIkDJ",
      "execution_count": null,
      "outputs": [
        {
          "output_type": "stream",
          "name": "stdout",
          "text": [
            "Total Missings: \n",
            " 0 \n",
            "\n"
          ]
        }
      ]
    },
    {
      "cell_type": "code",
      "source": [
        "#Q2 part 2\n",
        "var = \"Type\"\n",
        "\n",
        "print(s_df[var].unique())\n",
        "print(s_df[var].value_counts())\n"
      ],
      "metadata": {
        "colab": {
          "base_uri": "https://localhost:8080/"
        },
        "id": "9ZAR-WbwMEM1",
        "outputId": "ec0aed6e-6dd8-40ee-d0f1-fdc7f1e4911b"
      },
      "id": "9ZAR-WbwMEM1",
      "execution_count": null,
      "outputs": [
        {
          "output_type": "stream",
          "name": "stdout",
          "text": [
            "['Unprovoked' 'Provoked' 'Questionable' 'Watercraft' 'Unconfirmed'\n",
            " 'Unverified' 'Invalid' 'Under investigation' 'Boating' 'Sea Disaster' nan\n",
            " 'Boat' 'Boatomg']\n",
            "Unprovoked             4716\n",
            "Provoked                593\n",
            "Invalid                 552\n",
            "Sea Disaster            239\n",
            "Watercraft              142\n",
            "Boat                    109\n",
            "Boating                  92\n",
            "Questionable             10\n",
            "Unconfirmed               1\n",
            "Unverified                1\n",
            "Under investigation       1\n",
            "Boatomg                   1\n",
            "Name: Type, dtype: int64\n"
          ]
        }
      ]
    },
    {
      "cell_type": "code",
      "source": [
        "# replace boatomg with boating - assume mistake\n",
        "\n",
        "s_df[var]= s_df[var].replace(\"Boatomg\",\"Boating\")"
      ],
      "metadata": {
        "id": "2-TXhm9uMiau"
      },
      "id": "2-TXhm9uMiau",
      "execution_count": null,
      "outputs": []
    },
    {
      "cell_type": "code",
      "source": [
        "#group questionable/unknown and change to nan because they aren't telling us anything\n",
        "\n",
        "s_df[var]= s_df[var].replace([\"Unverified\",\"Unconfirmed\",\"Questionable\",\"Under investigation\",\"Invalid\"],np.nan)"
      ],
      "metadata": {
        "id": "_B0btSxQNIvm"
      },
      "id": "_B0btSxQNIvm",
      "execution_count": null,
      "outputs": []
    },
    {
      "cell_type": "code",
      "source": [
        "# group watercraft\n",
        "\n",
        "s_df[var]= s_df[var].replace([\"Sea Disaster\",\"Watercraft\",\"Boat\",\"Boating\"],\"Watercraft\")"
      ],
      "metadata": {
        "id": "YRFt6b1jNjWZ"
      },
      "id": "YRFt6b1jNjWZ",
      "execution_count": null,
      "outputs": []
    },
    {
      "cell_type": "code",
      "source": [
        "#check values again\n",
        "\n",
        "print(s_df[var].unique())\n",
        "print(s_df[var].value_counts())"
      ],
      "metadata": {
        "colab": {
          "base_uri": "https://localhost:8080/"
        },
        "id": "OY3r_opzOpeY",
        "outputId": "74f49837-3a29-470a-e1c8-aab15ca23577"
      },
      "id": "OY3r_opzOpeY",
      "execution_count": null,
      "outputs": [
        {
          "output_type": "stream",
          "name": "stdout",
          "text": [
            "['Unprovoked' 'Provoked' nan 'Watercraft']\n",
            "Unprovoked    4716\n",
            "Provoked       593\n",
            "Watercraft     583\n",
            "Name: Type, dtype: int64\n"
          ]
        }
      ]
    },
    {
      "cell_type": "code",
      "source": [
        "#Q2 part 3\n",
        "\n",
        "#import csv from internet\n",
        "url = 'http://www.vcsc.virginia.gov/pretrialdataproject/October%202017%20Cohort_Virginia%20Pretrial%20Data%20Project_Deidentified%20FINAL%20Update_10272021.csv'\n",
        "df = pd.read_csv(url,low_memory=False)"
      ],
      "metadata": {
        "id": "TMUi22rKOxvC"
      },
      "id": "TMUi22rKOxvC",
      "execution_count": null,
      "outputs": []
    },
    {
      "cell_type": "code",
      "source": [
        "#look at values\n",
        "\n",
        "var = 'WhetherDefendantWasReleasedPretrial'\n",
        "\n",
        "print(df[var].value_counts())"
      ],
      "metadata": {
        "colab": {
          "base_uri": "https://localhost:8080/"
        },
        "id": "S_mCuE3OPLxy",
        "outputId": "4cba1219-0a84-412e-ec6e-17efc63814d9"
      },
      "id": "S_mCuE3OPLxy",
      "execution_count": null,
      "outputs": [
        {
          "output_type": "stream",
          "name": "stdout",
          "text": [
            "1    19154\n",
            "0     3801\n",
            "9       31\n",
            "Name: WhetherDefendantWasReleasedPretrial, dtype: int64\n"
          ]
        }
      ]
    },
    {
      "cell_type": "code",
      "source": [
        "#rename column with something shorter that makes more sense\n",
        "\n",
        "df = df.rename(columns = {\"WhetherDefendantWasReleasedPretrial\":\"released\"})"
      ],
      "metadata": {
        "id": "IqKs6G9NPW0N"
      },
      "id": "IqKs6G9NPW0N",
      "execution_count": null,
      "outputs": []
    },
    {
      "cell_type": "code",
      "source": [
        "#from codebook, know that the value 9 means missing, so replace all 9s with nans\n",
        "\n",
        "df[\"released\"] = df[\"released\"].replace(9, np.nan)"
      ],
      "metadata": {
        "id": "wOgoHSocPq4G"
      },
      "id": "wOgoHSocPq4G",
      "execution_count": null,
      "outputs": []
    },
    {
      "cell_type": "code",
      "source": [
        "#recheck value counts\n",
        "print(df[\"released\"].value_counts())\n"
      ],
      "metadata": {
        "colab": {
          "base_uri": "https://localhost:8080/"
        },
        "id": "a0PVJAGiQQIg",
        "outputId": "ca29b07b-6a00-4673-97f7-017776ff9f6c"
      },
      "id": "a0PVJAGiQQIg",
      "execution_count": null,
      "outputs": [
        {
          "output_type": "stream",
          "name": "stdout",
          "text": [
            "1.0    19154\n",
            "0.0     3801\n",
            "Name: released, dtype: int64\n"
          ]
        }
      ]
    },
    {
      "cell_type": "code",
      "source": [
        "#Q2 part 4\n",
        "\n",
        "var = \"ImposedSentenceAllChargeInContactEvent\"\n",
        "\n",
        "print(df[var].value_counts())\n",
        "\n",
        "sentence = df[var]\n"
      ],
      "metadata": {
        "id": "kTe43DLiQw0J",
        "outputId": "17b2e8d9-5b7c-4efc-e00e-9a3c09f6b71a",
        "colab": {
          "base_uri": "https://localhost:8080/"
        }
      },
      "id": "kTe43DLiQw0J",
      "execution_count": null,
      "outputs": [
        {
          "output_type": "stream",
          "name": "stdout",
          "text": [
            "                    9053\n",
            "0                   4953\n",
            "12                  1404\n",
            ".985626283367556    1051\n",
            "6                    809\n",
            "                    ... \n",
            "49.9712525667351       1\n",
            "57.0349075975359       1\n",
            "79.9260780287474       1\n",
            "42.1642710472279       1\n",
            "1.6570841889117        1\n",
            "Name: ImposedSentenceAllChargeInContactEvent, Length: 484, dtype: int64\n"
          ]
        }
      ]
    },
    {
      "cell_type": "code",
      "source": [
        "#rename\n",
        "stype = df[\"SentenceTypeAllChargesAtConvictionInContactEvent\"]\n",
        "\n",
        "print(stype.value_counts())\n"
      ],
      "metadata": {
        "id": "A_9Go4OPRGgG",
        "outputId": "8d323f40-6f9e-4119-d62a-2581d8654165",
        "colab": {
          "base_uri": "https://localhost:8080/"
        }
      },
      "id": "A_9Go4OPRGgG",
      "execution_count": null,
      "outputs": [
        {
          "output_type": "stream",
          "name": "stdout",
          "text": [
            "4    8779\n",
            "0    8720\n",
            "1    4299\n",
            "2     914\n",
            "9     274\n",
            "Name: SentenceTypeAllChargesAtConvictionInContactEvent, dtype: int64\n"
          ]
        }
      ]
    },
    {
      "cell_type": "code",
      "source": [
        "#coerce to numeric\n",
        "\n",
        "sentence = pd.to_numeric(sentence,errors = \"coerce\")\n",
        "\n",
        "print(sentence)\n"
      ],
      "metadata": {
        "id": "4C5tsBLlReh-",
        "outputId": "d9f50936-86cc-4a4e-ef99-2131de9006d1",
        "colab": {
          "base_uri": "https://localhost:8080/"
        }
      },
      "id": "4C5tsBLlReh-",
      "execution_count": null,
      "outputs": [
        {
          "output_type": "stream",
          "name": "stdout",
          "text": [
            "0              NaN\n",
            "1        60.000000\n",
            "2        12.000000\n",
            "3         0.985626\n",
            "4              NaN\n",
            "           ...    \n",
            "22981          NaN\n",
            "22982          NaN\n",
            "22983          NaN\n",
            "22984          NaN\n",
            "22985          NaN\n",
            "Name: ImposedSentenceAllChargeInContactEvent, Length: 22986, dtype: float64\n"
          ]
        }
      ]
    },
    {
      "cell_type": "code",
      "source": [
        "# Create a missing dummy:\n",
        "var = \"sentence\"\n",
        "\n",
        "snull = sentence.isnull()\n",
        "\n",
        "print('Total Missings: ', sum(snull))"
      ],
      "metadata": {
        "id": "Z_LUzYQKR4Nb",
        "outputId": "eaade0f6-0430-4340-c7c4-a45dc2027e2c",
        "colab": {
          "base_uri": "https://localhost:8080/"
        }
      },
      "id": "Z_LUzYQKR4Nb",
      "execution_count": null,
      "outputs": [
        {
          "output_type": "stream",
          "name": "stdout",
          "text": [
            "Total Missings:  9053\n"
          ]
        }
      ]
    },
    {
      "cell_type": "code",
      "source": [
        "print(stype.value_counts())"
      ],
      "metadata": {
        "id": "eYBs49ulVo8K",
        "outputId": "ce9a8a25-57d1-4552-b246-c864399580c6",
        "colab": {
          "base_uri": "https://localhost:8080/"
        }
      },
      "id": "eYBs49ulVo8K",
      "execution_count": null,
      "outputs": [
        {
          "output_type": "stream",
          "name": "stdout",
          "text": [
            "4    8779\n",
            "0    8720\n",
            "1    4299\n",
            "2     914\n",
            "9     274\n",
            "Name: SentenceTypeAllChargesAtConvictionInContactEvent, dtype: int64\n"
          ]
        }
      ]
    },
    {
      "cell_type": "code",
      "source": [
        "pd.crosstab(stype, snull)\n",
        "\n",
        "#There is a pattern as all of the null values are for sentence types 4 and 9\n",
        "#null values are only for types 4 and 9. From codebook, 9 means missing value, but 4 must also be cases where no sentence was given.\n"
      ],
      "metadata": {
        "id": "iReOmrBkWBfh",
        "outputId": "da4a0d8d-8aba-4297-d785-c7d56d2371dc",
        "colab": {
          "base_uri": "https://localhost:8080/",
          "height": 238
        }
      },
      "id": "iReOmrBkWBfh",
      "execution_count": null,
      "outputs": [
        {
          "output_type": "execute_result",
          "data": {
            "text/plain": [
              "ImposedSentenceAllChargeInContactEvent            False  True \n",
              "SentenceTypeAllChargesAtConvictionInContactEvent              \n",
              "0                                                  8720      0\n",
              "1                                                  4299      0\n",
              "2                                                   914      0\n",
              "4                                                     0   8779\n",
              "9                                                     0    274"
            ],
            "text/html": [
              "\n",
              "  <div id=\"df-448f3379-d269-446c-ac6d-b820d069ffd9\" class=\"colab-df-container\">\n",
              "    <div>\n",
              "<style scoped>\n",
              "    .dataframe tbody tr th:only-of-type {\n",
              "        vertical-align: middle;\n",
              "    }\n",
              "\n",
              "    .dataframe tbody tr th {\n",
              "        vertical-align: top;\n",
              "    }\n",
              "\n",
              "    .dataframe thead th {\n",
              "        text-align: right;\n",
              "    }\n",
              "</style>\n",
              "<table border=\"1\" class=\"dataframe\">\n",
              "  <thead>\n",
              "    <tr style=\"text-align: right;\">\n",
              "      <th>ImposedSentenceAllChargeInContactEvent</th>\n",
              "      <th>False</th>\n",
              "      <th>True</th>\n",
              "    </tr>\n",
              "    <tr>\n",
              "      <th>SentenceTypeAllChargesAtConvictionInContactEvent</th>\n",
              "      <th></th>\n",
              "      <th></th>\n",
              "    </tr>\n",
              "  </thead>\n",
              "  <tbody>\n",
              "    <tr>\n",
              "      <th>0</th>\n",
              "      <td>8720</td>\n",
              "      <td>0</td>\n",
              "    </tr>\n",
              "    <tr>\n",
              "      <th>1</th>\n",
              "      <td>4299</td>\n",
              "      <td>0</td>\n",
              "    </tr>\n",
              "    <tr>\n",
              "      <th>2</th>\n",
              "      <td>914</td>\n",
              "      <td>0</td>\n",
              "    </tr>\n",
              "    <tr>\n",
              "      <th>4</th>\n",
              "      <td>0</td>\n",
              "      <td>8779</td>\n",
              "    </tr>\n",
              "    <tr>\n",
              "      <th>9</th>\n",
              "      <td>0</td>\n",
              "      <td>274</td>\n",
              "    </tr>\n",
              "  </tbody>\n",
              "</table>\n",
              "</div>\n",
              "    <div class=\"colab-df-buttons\">\n",
              "\n",
              "  <div class=\"colab-df-container\">\n",
              "    <button class=\"colab-df-convert\" onclick=\"convertToInteractive('df-448f3379-d269-446c-ac6d-b820d069ffd9')\"\n",
              "            title=\"Convert this dataframe to an interactive table.\"\n",
              "            style=\"display:none;\">\n",
              "\n",
              "  <svg xmlns=\"http://www.w3.org/2000/svg\" height=\"24px\" viewBox=\"0 -960 960 960\">\n",
              "    <path d=\"M120-120v-720h720v720H120Zm60-500h600v-160H180v160Zm220 220h160v-160H400v160Zm0 220h160v-160H400v160ZM180-400h160v-160H180v160Zm440 0h160v-160H620v160ZM180-180h160v-160H180v160Zm440 0h160v-160H620v160Z\"/>\n",
              "  </svg>\n",
              "    </button>\n",
              "\n",
              "  <style>\n",
              "    .colab-df-container {\n",
              "      display:flex;\n",
              "      gap: 12px;\n",
              "    }\n",
              "\n",
              "    .colab-df-convert {\n",
              "      background-color: #E8F0FE;\n",
              "      border: none;\n",
              "      border-radius: 50%;\n",
              "      cursor: pointer;\n",
              "      display: none;\n",
              "      fill: #1967D2;\n",
              "      height: 32px;\n",
              "      padding: 0 0 0 0;\n",
              "      width: 32px;\n",
              "    }\n",
              "\n",
              "    .colab-df-convert:hover {\n",
              "      background-color: #E2EBFA;\n",
              "      box-shadow: 0px 1px 2px rgba(60, 64, 67, 0.3), 0px 1px 3px 1px rgba(60, 64, 67, 0.15);\n",
              "      fill: #174EA6;\n",
              "    }\n",
              "\n",
              "    .colab-df-buttons div {\n",
              "      margin-bottom: 4px;\n",
              "    }\n",
              "\n",
              "    [theme=dark] .colab-df-convert {\n",
              "      background-color: #3B4455;\n",
              "      fill: #D2E3FC;\n",
              "    }\n",
              "\n",
              "    [theme=dark] .colab-df-convert:hover {\n",
              "      background-color: #434B5C;\n",
              "      box-shadow: 0px 1px 3px 1px rgba(0, 0, 0, 0.15);\n",
              "      filter: drop-shadow(0px 1px 2px rgba(0, 0, 0, 0.3));\n",
              "      fill: #FFFFFF;\n",
              "    }\n",
              "  </style>\n",
              "\n",
              "    <script>\n",
              "      const buttonEl =\n",
              "        document.querySelector('#df-448f3379-d269-446c-ac6d-b820d069ffd9 button.colab-df-convert');\n",
              "      buttonEl.style.display =\n",
              "        google.colab.kernel.accessAllowed ? 'block' : 'none';\n",
              "\n",
              "      async function convertToInteractive(key) {\n",
              "        const element = document.querySelector('#df-448f3379-d269-446c-ac6d-b820d069ffd9');\n",
              "        const dataTable =\n",
              "          await google.colab.kernel.invokeFunction('convertToInteractive',\n",
              "                                                    [key], {});\n",
              "        if (!dataTable) return;\n",
              "\n",
              "        const docLinkHtml = 'Like what you see? Visit the ' +\n",
              "          '<a target=\"_blank\" href=https://colab.research.google.com/notebooks/data_table.ipynb>data table notebook</a>'\n",
              "          + ' to learn more about interactive tables.';\n",
              "        element.innerHTML = '';\n",
              "        dataTable['output_type'] = 'display_data';\n",
              "        await google.colab.output.renderOutput(dataTable, element);\n",
              "        const docLink = document.createElement('div');\n",
              "        docLink.innerHTML = docLinkHtml;\n",
              "        element.appendChild(docLink);\n",
              "      }\n",
              "    </script>\n",
              "  </div>\n",
              "\n",
              "\n",
              "<div id=\"df-943ee91f-f707-41c3-bf73-483b0bda3838\">\n",
              "  <button class=\"colab-df-quickchart\" onclick=\"quickchart('df-943ee91f-f707-41c3-bf73-483b0bda3838')\"\n",
              "            title=\"Suggest charts\"\n",
              "            style=\"display:none;\">\n",
              "\n",
              "<svg xmlns=\"http://www.w3.org/2000/svg\" height=\"24px\"viewBox=\"0 0 24 24\"\n",
              "     width=\"24px\">\n",
              "    <g>\n",
              "        <path d=\"M19 3H5c-1.1 0-2 .9-2 2v14c0 1.1.9 2 2 2h14c1.1 0 2-.9 2-2V5c0-1.1-.9-2-2-2zM9 17H7v-7h2v7zm4 0h-2V7h2v10zm4 0h-2v-4h2v4z\"/>\n",
              "    </g>\n",
              "</svg>\n",
              "  </button>\n",
              "\n",
              "<style>\n",
              "  .colab-df-quickchart {\n",
              "      --bg-color: #E8F0FE;\n",
              "      --fill-color: #1967D2;\n",
              "      --hover-bg-color: #E2EBFA;\n",
              "      --hover-fill-color: #174EA6;\n",
              "      --disabled-fill-color: #AAA;\n",
              "      --disabled-bg-color: #DDD;\n",
              "  }\n",
              "\n",
              "  [theme=dark] .colab-df-quickchart {\n",
              "      --bg-color: #3B4455;\n",
              "      --fill-color: #D2E3FC;\n",
              "      --hover-bg-color: #434B5C;\n",
              "      --hover-fill-color: #FFFFFF;\n",
              "      --disabled-bg-color: #3B4455;\n",
              "      --disabled-fill-color: #666;\n",
              "  }\n",
              "\n",
              "  .colab-df-quickchart {\n",
              "    background-color: var(--bg-color);\n",
              "    border: none;\n",
              "    border-radius: 50%;\n",
              "    cursor: pointer;\n",
              "    display: none;\n",
              "    fill: var(--fill-color);\n",
              "    height: 32px;\n",
              "    padding: 0;\n",
              "    width: 32px;\n",
              "  }\n",
              "\n",
              "  .colab-df-quickchart:hover {\n",
              "    background-color: var(--hover-bg-color);\n",
              "    box-shadow: 0 1px 2px rgba(60, 64, 67, 0.3), 0 1px 3px 1px rgba(60, 64, 67, 0.15);\n",
              "    fill: var(--button-hover-fill-color);\n",
              "  }\n",
              "\n",
              "  .colab-df-quickchart-complete:disabled,\n",
              "  .colab-df-quickchart-complete:disabled:hover {\n",
              "    background-color: var(--disabled-bg-color);\n",
              "    fill: var(--disabled-fill-color);\n",
              "    box-shadow: none;\n",
              "  }\n",
              "\n",
              "  .colab-df-spinner {\n",
              "    border: 2px solid var(--fill-color);\n",
              "    border-color: transparent;\n",
              "    border-bottom-color: var(--fill-color);\n",
              "    animation:\n",
              "      spin 1s steps(1) infinite;\n",
              "  }\n",
              "\n",
              "  @keyframes spin {\n",
              "    0% {\n",
              "      border-color: transparent;\n",
              "      border-bottom-color: var(--fill-color);\n",
              "      border-left-color: var(--fill-color);\n",
              "    }\n",
              "    20% {\n",
              "      border-color: transparent;\n",
              "      border-left-color: var(--fill-color);\n",
              "      border-top-color: var(--fill-color);\n",
              "    }\n",
              "    30% {\n",
              "      border-color: transparent;\n",
              "      border-left-color: var(--fill-color);\n",
              "      border-top-color: var(--fill-color);\n",
              "      border-right-color: var(--fill-color);\n",
              "    }\n",
              "    40% {\n",
              "      border-color: transparent;\n",
              "      border-right-color: var(--fill-color);\n",
              "      border-top-color: var(--fill-color);\n",
              "    }\n",
              "    60% {\n",
              "      border-color: transparent;\n",
              "      border-right-color: var(--fill-color);\n",
              "    }\n",
              "    80% {\n",
              "      border-color: transparent;\n",
              "      border-right-color: var(--fill-color);\n",
              "      border-bottom-color: var(--fill-color);\n",
              "    }\n",
              "    90% {\n",
              "      border-color: transparent;\n",
              "      border-bottom-color: var(--fill-color);\n",
              "    }\n",
              "  }\n",
              "</style>\n",
              "\n",
              "  <script>\n",
              "    async function quickchart(key) {\n",
              "      const quickchartButtonEl =\n",
              "        document.querySelector('#' + key + ' button');\n",
              "      quickchartButtonEl.disabled = true;  // To prevent multiple clicks.\n",
              "      quickchartButtonEl.classList.add('colab-df-spinner');\n",
              "      try {\n",
              "        const charts = await google.colab.kernel.invokeFunction(\n",
              "            'suggestCharts', [key], {});\n",
              "      } catch (error) {\n",
              "        console.error('Error during call to suggestCharts:', error);\n",
              "      }\n",
              "      quickchartButtonEl.classList.remove('colab-df-spinner');\n",
              "      quickchartButtonEl.classList.add('colab-df-quickchart-complete');\n",
              "    }\n",
              "    (() => {\n",
              "      let quickchartButtonEl =\n",
              "        document.querySelector('#df-943ee91f-f707-41c3-bf73-483b0bda3838 button');\n",
              "      quickchartButtonEl.style.display =\n",
              "        google.colab.kernel.accessAllowed ? 'block' : 'none';\n",
              "    })();\n",
              "  </script>\n",
              "</div>\n",
              "    </div>\n",
              "  </div>\n"
            ]
          },
          "metadata": {},
          "execution_count": 78
        }
      ]
    },
    {
      "cell_type": "code",
      "source": [
        "#want to replace the nan in sentence length to reflect that 4 means a sentence length of 0\n",
        "#use mask to replace based on condition that stype==4\n",
        "#already know that 9 means unknown, so make that data nan\n",
        "\n",
        "\n",
        "sentence = sentence.mask(stype==4,0)\n",
        "\n",
        "sentence = sentence.mask(stype==9,np.nan)\n"
      ],
      "metadata": {
        "id": "yAKiqVpcVy3l"
      },
      "id": "yAKiqVpcVy3l",
      "execution_count": null,
      "outputs": []
    },
    {
      "cell_type": "code",
      "source": [
        "#recount missing values\n",
        "snull2 = sentence.isnull()\n",
        "\n",
        "print('Total Missings: ', sum(snull2))\n",
        "\n",
        "#all of the missing values for type 4 were replaced with 0, resulting in much fewer missing values\n"
      ],
      "metadata": {
        "id": "iKWD4E5nXShC",
        "outputId": "5decfe47-843b-42f4-f960-e1cb844852fc",
        "colab": {
          "base_uri": "https://localhost:8080/"
        }
      },
      "id": "iKWD4E5nXShC",
      "execution_count": null,
      "outputs": [
        {
          "output_type": "stream",
          "name": "stdout",
          "text": [
            "Total Missings:  274\n"
          ]
        }
      ]
    },
    {
      "cell_type": "code",
      "source": [
        "#replace df with clean values\n",
        "\n",
        "df[\"ImposedSentenceAllChargeInContactEvent\"]=sentence"
      ],
      "metadata": {
        "id": "V9YePOlsXpOZ"
      },
      "id": "V9YePOlsXpOZ",
      "execution_count": null,
      "outputs": []
    },
    {
      "cell_type": "markdown",
      "id": "649494cd-cfd6-4f80-992a-9994fc19e1d5",
      "metadata": {
        "id": "649494cd-cfd6-4f80-992a-9994fc19e1d5"
      },
      "source": [
        "**Q3.** Many important datasets contain a race variable, typically limited to a handful of values often including Black, White, Asian, Latino, and Indigenous. This question looks at data gathering efforts on this variable by the U.S. Federal government.\n",
        "\n",
        "1. How did the most recent US Census gather data on race?\n",
        "2. Why do we gather these data? What role do these kinds of data play in politics and society? Why does data quality matter?\n",
        "3. Please provide a constructive criticism of how the Census was conducted: What was done well? What do you think was missing? How should future large scale surveys be adjusted to best reflect the diversity of the population? Could some of the Census' good practices be adopted more widely to gather richer and more useful data?\n",
        "4. How did the Census gather data on sex and gender? Please provide a similar constructive criticism of their practices.\n",
        "5. When it comes to cleaning data, what concerns do you have about protected characteristics like sex, gender, sexual identity, or race? What challenges can you imagine arising when there are missing values? What good or bad practices might people adopt, and why?\n",
        "6. Suppose someone invented an algorithm to impute values for protected characteristics like race, gender, sex, or sexuality. What kinds of concerns would you have?"
      ]
    },
    {
      "cell_type": "markdown",
      "source": [
        "1. Race is divided into 5 categories: White, Black, Asian, Native Hawaiian or Pacific Islander, and American Indian or Alaska Native. Other race is also an option, and there is a write in section for further explanation. Ethnicity is recorded as hispanic or latino vs not hispanic or latino.\n",
        "\n",
        "2. We gather this data to know the racial makeup of the US. This data can be used to understand racial inequality when analyzed across different systems in the US. It's also important to know the makeup of specific counties and states to create policies catered for those people. Politics and laws need to be representative of the county population. Bad data quality can skew results to make the country look more or less equitable. It also makes it harder to create policies that actually help the community.\n",
        "\n",
        "3. I think offering more flexibility by including a write in section was a step in the right direction, but with the large quantity of data collected, cleaning the write in section would take an incredible amount of time. It would be really hard to get meaningful results from that part of the census. The ethnicity categories seem very narrow and not helpful unless you are only looking at hispanic vs not hispanic. The checkbox set up makes it easier to collect data on a large scale while also offering flexibility. I think the categories could potentially be increased, but I'm not sure how to increase them to create more useful data without needlessly complicating the survey."
      ],
      "metadata": {
        "id": "x8WRKTxBYrx7"
      },
      "id": "x8WRKTxBYrx7"
    },
    {
      "cell_type": "markdown",
      "source": [
        "4. The census only gathered data on current sex, not sex at birth or current gender identification. There are only two checkboxes for male and female. I think there should be a \"prefer not to say\" option. I think asking for sex rather than gender is a good idea because gender is so widespread and personal, so I'm not sure how useful information about gender identification would be. I do think there should be more guidelines on what exactly is meant by \"current sex\" to reduce ambiguity. A question on sexuality might be helpful, but it would be divided into major categories with an \"other\" category because there is such a wide spectrum of sexual orientations. This is important for diversity and understanding the population affected by policies.\n",
        "\n",
        "5. Handling outliers and small population sizes for individual races and sex/genders could be difficult. Results of analytics might be skewed based on small population sizes, but these populations can't be discounted. There's also such a wide spread of these variables that it can be difficult to know when to group identities together, such as Native Indian and Alaskan Native, and when to give groups separate sections. \"Other\" sections also pose a difficult challenge as the makeup of these categories are unknown. When cleaning data, people might drop missing values of race and gender. This can be an issue because someone choosing not to answer those questions is a data point and tells us something about them. Those who choose not to answer are a population that needs to be represented, so discounting all information from them is a huge problem that could lead to data unrepresentative of the actual population.\n",
        "\n",
        "6. A person choosing not to answer questions about race and sex is a data point in of itself. Creating an algorithm to guess these values takes away valuable information on a group of people that may identify differently than the survey allowed them to. Basing policies off of this data could create major issues, especially if the algorithm incorrectly represents people. The algorithm is making the missing data problem worse instead of using the missing data as additional information."
      ],
      "metadata": {
        "id": "CsJMJzyghaKW"
      },
      "id": "CsJMJzyghaKW"
    },
    {
      "cell_type": "code",
      "source": [],
      "metadata": {
        "id": "auX1p4oLiGzV"
      },
      "id": "auX1p4oLiGzV",
      "execution_count": null,
      "outputs": []
    }
  ],
  "metadata": {
    "colab": {
      "provenance": []
    },
    "kernelspec": {
      "display_name": "Python 3 (ipykernel)",
      "language": "python",
      "name": "python3"
    },
    "language_info": {
      "codemirror_mode": {
        "name": "ipython",
        "version": 3
      },
      "file_extension": ".py",
      "mimetype": "text/x-python",
      "name": "python",
      "nbconvert_exporter": "python",
      "pygments_lexer": "ipython3",
      "version": "3.10.4"
    }
  },
  "nbformat": 4,
  "nbformat_minor": 5
}