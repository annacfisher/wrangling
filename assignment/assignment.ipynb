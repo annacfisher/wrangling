{
  "cells": [
    {
      "cell_type": "markdown",
      "id": "13ad028b-72b7-43ed-aa78-96fd4e518040",
      "metadata": {
        "id": "13ad028b-72b7-43ed-aa78-96fd4e518040"
      },
      "source": [
        "# Assignment: Data Wrangling"
      ]
    },
    {
      "cell_type": "code",
      "source": [
        "! git clone https://github.com/DS3001/wrangling"
      ],
      "metadata": {
        "colab": {
          "base_uri": "https://localhost:8080/"
        },
        "id": "mpxqX35TGZ1W",
        "outputId": "a45078a1-45fc-4448-d91d-4c58aefdb8d0"
      },
      "id": "mpxqX35TGZ1W",
      "execution_count": 2,
      "outputs": [
        {
          "output_type": "stream",
          "name": "stdout",
          "text": [
            "Cloning into 'wrangling'...\n",
            "remote: Enumerating objects: 75, done.\u001b[K\n",
            "remote: Counting objects: 100% (34/34), done.\u001b[K\n",
            "remote: Compressing objects: 100% (24/24), done.\u001b[K\n",
            "remote: Total 75 (delta 27), reused 10 (delta 10), pack-reused 41\u001b[K\n",
            "Receiving objects: 100% (75/75), 6.25 MiB | 23.54 MiB/s, done.\n",
            "Resolving deltas: 100% (33/33), done.\n"
          ]
        }
      ]
    },
    {
      "cell_type": "markdown",
      "id": "5735a4d4-8be8-433a-a351-70eb8002e632",
      "metadata": {
        "id": "5735a4d4-8be8-433a-a351-70eb8002e632"
      },
      "source": [
        "**Q1.** Open the \"tidy_data.pdf\" document in the repo, which is a paper called Tidy Data by Hadley Wickham.\n",
        "\n",
        "  1. Read the abstract. What is this paper about?\n",
        "  2. Read the introduction. What is the \"tidy data standard\" intended to accomplish?\n",
        "  3. Read the intro to section 2. What does this sentence mean: \"Like families, tidy datasets are all alike but every messy dataset is messy in its own way.\" What does this sentence mean: \"For a given dataset, it’s usually easy to figure out what are observations and what are variables, but it is surprisingly difficult to precisely define variables and observations in general.\"\n",
        "  4. Read Section 2.2. How does Wickham define values, variables, and observations?\n",
        "  5. How is \"Tidy Data\" defined in section 2.3?\n",
        "  6. Read the intro to Section 3 and Section 3.1. What are the 5 most common problems with messy datasets? Why are the data in Table 4 messy? What is \"melting\" a dataset?\n",
        "  7. Why, specifically, is table 11 messy but table 12 tidy and \"molten\"?\n",
        "  8. Read Section 6. What is the \"chicken-and-egg\" problem with focusing on tidy data? What does Wickham hope happens in the future with further work on the subject of data wrangling?"
      ]
    },
    {
      "cell_type": "markdown",
      "source": [
        "1. The paper is about how to create tidy datasets from messy datasets, and the advantages associated with having a tidy dataset. A tidy dataset is defined as a dataset with each variable as a column, each observation is a row, and each type of observational unit is a table.\n",
        "\n",
        "2. A tidy data standard attempts to make the data cleaning process much easier as you don't have to start from scratch while cleaning each new dataset. It reduces the time taken to develop tools that work well together so that you can spend time analyzing the interesting problem rather than cleaning the data.\n",
        "\n",
        "3. Tidy data provides a standard way to link the physical layout of the data to its meaning, whereas messy datasets all have different problems and different layouts that require custom approaches to analyze. It's hard to understand the relationships between variables and if they link to a specific observation, and different situations might call for different variables."
      ],
      "metadata": {
        "id": "p-bPpG0jGsQK"
      },
      "id": "p-bPpG0jGsQK"
    },
    {
      "cell_type": "markdown",
      "source": [
        "4. Values: numbers or strings that belong to a variable and an observation. Variables: contain all values that measure the same underlying attribute across units. Observations: contains all values measured on the same unit across attributes\n",
        "\n",
        "5. Tidy data maps the meaning of a dataset to its structure. Each variable is a column, every observation is a row, and each type of observational unit forms a table.\n",
        "\n",
        "6. The five most common problems with data are column headers are values instead of variable names, multiple variables are stored in one column, variables are stored in both rows and columns, multiple types of observational units are stored in the same table, and a single observational unit is stored in multiple tables. Table 4 is messy because variables form both rows and columns, and column names are values. Melting turns columns into rows.\n",
        "\n",
        "7. Table 11 is messy because variable are stored in both columns and rows (id, year month stored within columns, d1-d31 stored across columns, and tmin and tmax stored across rows). Table 12 is molten because it has been melted so that columns have been turned into rows. The dates have been turned into rows, and tmax and tmin are now columns.\n",
        "\n",
        "8. The chicken and egg problem with tidy data is that tidy data will always be linked to tidy tools, so there is the possibility of independently changing structure and data tools without improving workflow. Wickham hopes that in the future, others will build on the idea of tidy data and develop better tools and ideas, as well as address further unanswered problems with data cleaning."
      ],
      "metadata": {
        "id": "ElO8U1xbKGwQ"
      },
      "id": "ElO8U1xbKGwQ"
    },
    {
      "cell_type": "markdown",
      "id": "da879ea7-8aac-48a3-b6c2-daea56d2e072",
      "metadata": {
        "id": "da879ea7-8aac-48a3-b6c2-daea56d2e072"
      },
      "source": [
        "**Q2.** This question provides some practice cleaning variables which have common problems.\n",
        "1. Numeric variable: For `./data/airbnb_hw.csv`, clean the `Price` variable as well as you can, and explain the choices you make. How many missing values do you end up with? (Hint: What happens to the formatting when a price goes over 999 dollars, say from 675 to 1,112?)\n",
        "2. Categorical variable: For the `./data/sharks.csv` data covered in the lecture, clean the \"Type\" variable as well as you can, and explain the choices you make.\n",
        "3. Dummy variable: For the pretrial data covered in the lecture, clean the `WhetherDefendantWasReleasedPretrial` variable as well as you can, and, in particular, replace missing values with `np.nan`.\n",
        "4. Missing values, not at random: For the pretrial data covered in the lecture, clean the `ImposedSentenceAllChargeInContactEvent` variable as well as you can, and explain the choices you make. (Hint: Look at the `SentenceTypeAllChargesAtConvictionInContactEvent` variable.)"
      ]
    },
    {
      "cell_type": "code",
      "source": [
        "import numpy as np\n",
        "import pandas as pd"
      ],
      "metadata": {
        "id": "ARgdLqqx1YA7"
      },
      "id": "ARgdLqqx1YA7",
      "execution_count": 1,
      "outputs": []
    },
    {
      "cell_type": "code",
      "source": [
        "#get DFs from csv\n",
        "\n",
        "a_df = pd.read_csv('/content/wrangling/assignment/data/airbnb_hw.csv',low_memory=False)\n",
        "\n",
        "s_df = pd.read_csv('/content/wrangling/assignment/data/sharks.csv',low_memory=False)"
      ],
      "metadata": {
        "id": "XMWdQdCK12WK"
      },
      "id": "XMWdQdCK12WK",
      "execution_count": 4,
      "outputs": []
    },
    {
      "cell_type": "markdown",
      "id": "649494cd-cfd6-4f80-992a-9994fc19e1d5",
      "metadata": {
        "id": "649494cd-cfd6-4f80-992a-9994fc19e1d5"
      },
      "source": [
        "**Q3.** Many important datasets contain a race variable, typically limited to a handful of values often including Black, White, Asian, Latino, and Indigenous. This question looks at data gathering efforts on this variable by the U.S. Federal government.\n",
        "\n",
        "1. How did the most recent US Census gather data on race?\n",
        "2. Why do we gather these data? What role do these kinds of data play in politics and society? Why does data quality matter?\n",
        "3. Please provide a constructive criticism of how the Census was conducted: What was done well? What do you think was missing? How should future large scale surveys be adjusted to best reflect the diversity of the population? Could some of the Census' good practices be adopted more widely to gather richer and more useful data?\n",
        "4. How did the Census gather data on sex and gender? Please provide a similar constructive criticism of their practices.\n",
        "5. When it comes to cleaning data, what concerns do you have about protected characteristics like sex, gender, sexual identity, or race? What challenges can you imagine arising when there are missing values? What good or bad practices might people adopt, and why?\n",
        "6. Suppose someone invented an algorithm to impute values for protected characteristics like race, gender, sex, or sexuality. What kinds of concerns would you have?"
      ]
    }
  ],
  "metadata": {
    "colab": {
      "provenance": []
    },
    "kernelspec": {
      "display_name": "Python 3 (ipykernel)",
      "language": "python",
      "name": "python3"
    },
    "language_info": {
      "codemirror_mode": {
        "name": "ipython",
        "version": 3
      },
      "file_extension": ".py",
      "mimetype": "text/x-python",
      "name": "python",
      "nbconvert_exporter": "python",
      "pygments_lexer": "ipython3",
      "version": "3.10.4"
    }
  },
  "nbformat": 4,
  "nbformat_minor": 5
}