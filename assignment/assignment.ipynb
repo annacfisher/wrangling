{
  "cells": [
    {
      "cell_type": "markdown",
      "id": "13ad028b-72b7-43ed-aa78-96fd4e518040",
      "metadata": {
        "id": "13ad028b-72b7-43ed-aa78-96fd4e518040"
      },
      "source": [
        "# Assignment: Data Wrangling"
      ]
    },
    {
      "cell_type": "code",
      "source": [
        "! git clone https://github.com/DS3001/wrangling"
      ],
      "metadata": {
        "colab": {
          "base_uri": "https://localhost:8080/"
        },
        "id": "mpxqX35TGZ1W",
        "outputId": "fc6864f6-8092-4cbf-9fa2-dcc57729e8c7"
      },
      "id": "mpxqX35TGZ1W",
      "execution_count": 5,
      "outputs": [
        {
          "output_type": "stream",
          "name": "stdout",
          "text": [
            "fatal: destination path 'wrangling' already exists and is not an empty directory.\n"
          ]
        }
      ]
    },
    {
      "cell_type": "markdown",
      "id": "5735a4d4-8be8-433a-a351-70eb8002e632",
      "metadata": {
        "id": "5735a4d4-8be8-433a-a351-70eb8002e632"
      },
      "source": [
        "**Q1.** Open the \"tidy_data.pdf\" document in the repo, which is a paper called Tidy Data by Hadley Wickham.\n",
        "\n",
        "  1. Read the abstract. What is this paper about?\n",
        "  2. Read the introduction. What is the \"tidy data standard\" intended to accomplish?\n",
        "  3. Read the intro to section 2. What does this sentence mean: \"Like families, tidy datasets are all alike but every messy dataset is messy in its own way.\" What does this sentence mean: \"For a given dataset, it’s usually easy to figure out what are observations and what are variables, but it is surprisingly difficult to precisely define variables and observations in general.\"\n",
        "  4. Read Section 2.2. How does Wickham define values, variables, and observations?\n",
        "  5. How is \"Tidy Data\" defined in section 2.3?\n",
        "  6. Read the intro to Section 3 and Section 3.1. What are the 5 most common problems with messy datasets? Why are the data in Table 4 messy? What is \"melting\" a dataset?\n",
        "  7. Why, specifically, is table 11 messy but table 12 tidy and \"molten\"?\n",
        "  8. Read Section 6. What is the \"chicken-and-egg\" problem with focusing on tidy data? What does Wickham hope happens in the future with further work on the subject of data wrangling?"
      ]
    },
    {
      "cell_type": "markdown",
      "source": [
        "1. The paper is about how to create tidy datasets from messy datasets, and the advantages associated with having a tidy dataset. A tidy dataset is defined as a dataset with each variable as a column, each observation is a row, and each type of observational unit is a table.\n",
        "\n",
        "2. A tidy data standard attempts to make the data cleaning process much easier as you don't have to start from scratch while cleaning each new dataset. It reduces the time taken to develop tools that work well together so that you can spend time analyzing the interesting problem rather than cleaning the data.\n",
        "\n",
        "3. Tidy data provides a standard way to link the physical layout of the data to its meaning, whereas messy datasets all have different problems and different layouts that require custom approaches to analyze. It's hard to understand the relationships between variables and if they link to a specific observation, and different situations might call for different variables."
      ],
      "metadata": {
        "id": "p-bPpG0jGsQK"
      },
      "id": "p-bPpG0jGsQK"
    },
    {
      "cell_type": "markdown",
      "source": [
        "4. Values: numbers or strings that belong to a variable and an observation. Variables: contain all values that measure the same underlying attribute across units. Observations: contains all values measured on the same unit across attributes\n",
        "\n",
        "5. Tidy data maps the meaning of a dataset to its structure. Each variable is a column, every observation is a row, and each type of observational unit forms a table.\n",
        "\n",
        "6. The five most common problems with data are column headers are values instead of variable names, multiple variables are stored in one column, variables are stored in both rows and columns, multiple types of observational units are stored in the same table, and a single observational unit is stored in multiple tables. Table 4 is messy because variables form both rows and columns, and column names are values. Melting turns columns into rows.\n",
        "\n",
        "7. Table 11 is messy because variable are stored in both columns and rows (id, year month stored within columns, d1-d31 stored across columns, and tmin and tmax stored across rows). Table 12 is molten because it has been melted so that columns have been turned into rows. The dates have been turned into rows, and tmax and tmin are now columns.\n",
        "\n",
        "8. The chicken and egg problem with tidy data is that tidy data will always be linked to tidy tools, so there is the possibility of independently changing structure and data tools without improving workflow. Wickham hopes that in the future, others will build on the idea of tidy data and develop better tools and ideas, as well as address further unanswered problems with data cleaning."
      ],
      "metadata": {
        "id": "ElO8U1xbKGwQ"
      },
      "id": "ElO8U1xbKGwQ"
    },
    {
      "cell_type": "markdown",
      "id": "da879ea7-8aac-48a3-b6c2-daea56d2e072",
      "metadata": {
        "id": "da879ea7-8aac-48a3-b6c2-daea56d2e072"
      },
      "source": [
        "**Q2.** This question provides some practice cleaning variables which have common problems.\n",
        "1. Numeric variable: For `./data/airbnb_hw.csv`, clean the `Price` variable as well as you can, and explain the choices you make. How many missing values do you end up with? (Hint: What happens to the formatting when a price goes over 999 dollars, say from 675 to 1,112?)\n",
        "2. Categorical variable: For the `./data/sharks.csv` data covered in the lecture, clean the \"Type\" variable as well as you can, and explain the choices you make.\n",
        "3. Dummy variable: For the pretrial data covered in the lecture, clean the `WhetherDefendantWasReleasedPretrial` variable as well as you can, and, in particular, replace missing values with `np.nan`.\n",
        "4. Missing values, not at random: For the pretrial data covered in the lecture, clean the `ImposedSentenceAllChargeInContactEvent` variable as well as you can, and explain the choices you make. (Hint: Look at the `SentenceTypeAllChargesAtConvictionInContactEvent` variable.)"
      ]
    },
    {
      "cell_type": "code",
      "source": [
        "import numpy as np\n",
        "import pandas as pd"
      ],
      "metadata": {
        "id": "ARgdLqqx1YA7"
      },
      "id": "ARgdLqqx1YA7",
      "execution_count": 1,
      "outputs": []
    },
    {
      "cell_type": "code",
      "source": [
        "#get DFs from csv\n",
        "\n",
        "a_df = pd.read_csv('/content/wrangling/assignment/data/airbnb_hw.csv',low_memory=False)\n",
        "\n",
        "s_df = pd.read_csv('/content/wrangling/assignment/data/sharks.csv',low_memory=False)"
      ],
      "metadata": {
        "id": "XMWdQdCK12WK"
      },
      "id": "XMWdQdCK12WK",
      "execution_count": 45,
      "outputs": []
    },
    {
      "cell_type": "code",
      "source": [
        "#Q2 part 1\n",
        "\n",
        "var = \"Price\"\n",
        "\n",
        "#get rid of commas\n",
        "a_df[var] = a_df[var].str.replace(',',\"\")\n",
        "\n",
        "print(a_df[\"Price\"].describe())"
      ],
      "metadata": {
        "colab": {
          "base_uri": "https://localhost:8080/"
        },
        "id": "sR1dnQFJKtD1",
        "outputId": "2749987c-0a3c-43f1-ecd7-cc729e780a46"
      },
      "id": "sR1dnQFJKtD1",
      "execution_count": 27,
      "outputs": [
        {
          "output_type": "stream",
          "name": "stdout",
          "text": [
            "count     30478\n",
            "unique      511\n",
            "top         150\n",
            "freq       1481\n",
            "Name: Price, dtype: object\n"
          ]
        }
      ]
    },
    {
      "cell_type": "code",
      "source": [
        "#covert to numeric & make erros nan\n",
        "\n",
        "a_df[var] = pd.to_numeric(a_df[var], errors='coerce')\n",
        "print(a_df[var].describe())\n",
        "\n",
        "a_df[var].hist()"
      ],
      "metadata": {
        "colab": {
          "base_uri": "https://localhost:8080/",
          "height": 609
        },
        "id": "nAG4QoJ3K5WD",
        "outputId": "16a9d8d2-cbfa-43c1-d1df-843ad39e8da0"
      },
      "id": "nAG4QoJ3K5WD",
      "execution_count": 28,
      "outputs": [
        {
          "output_type": "stream",
          "name": "stdout",
          "text": [
            "count    30478.000000\n",
            "mean       163.589737\n",
            "std        197.785454\n",
            "min         10.000000\n",
            "25%         80.000000\n",
            "50%        125.000000\n",
            "75%        195.000000\n",
            "max      10000.000000\n",
            "Name: Price, dtype: float64\n"
          ]
        },
        {
          "output_type": "execute_result",
          "data": {
            "text/plain": [
              "<Axes: >"
            ]
          },
          "metadata": {},
          "execution_count": 28
        },
        {
          "output_type": "display_data",
          "data": {
            "text/plain": [
              "<Figure size 640x480 with 1 Axes>"
            ],
            "image/png": "[encoded data removed]"
          },
          "metadata": {}
        }
      ]
    },
    {
      "cell_type": "code",
      "source": [
        "#find total missing\n",
        "\n",
        "#make column tracking if price is nan\n",
        "a_df[var+'_nan'] = a_df[var].isnull()\n",
        "\n",
        "#sum all nans\n",
        "print('Total Missings: \\n', sum(a_df[var+'_nan']),'\\n')\n"
      ],
      "metadata": {
        "colab": {
          "base_uri": "https://localhost:8080/"
        },
        "id": "MNVt7mWdIkDJ",
        "outputId": "d98b9c14-1954-45e2-f09c-ff485f68179c"
      },
      "id": "MNVt7mWdIkDJ",
      "execution_count": 29,
      "outputs": [
        {
          "output_type": "stream",
          "name": "stdout",
          "text": [
            "Total Missings: \n",
            " 0 \n",
            "\n"
          ]
        }
      ]
    },
    {
      "cell_type": "code",
      "source": [
        "#Q2 part 2\n",
        "var = \"Type\"\n",
        "\n",
        "print(s_df[var].unique())\n",
        "print(s_df[var].value_counts())\n"
      ],
      "metadata": {
        "colab": {
          "base_uri": "https://localhost:8080/"
        },
        "id": "9ZAR-WbwMEM1",
        "outputId": "ec0aed6e-6dd8-40ee-d0f1-fdc7f1e4911b"
      },
      "id": "9ZAR-WbwMEM1",
      "execution_count": 46,
      "outputs": [
        {
          "output_type": "stream",
          "name": "stdout",
          "text": [
            "['Unprovoked' 'Provoked' 'Questionable' 'Watercraft' 'Unconfirmed'\n",
            " 'Unverified' 'Invalid' 'Under investigation' 'Boating' 'Sea Disaster' nan\n",
            " 'Boat' 'Boatomg']\n",
            "Unprovoked             4716\n",
            "Provoked                593\n",
            "Invalid                 552\n",
            "Sea Disaster            239\n",
            "Watercraft              142\n",
            "Boat                    109\n",
            "Boating                  92\n",
            "Questionable             10\n",
            "Unconfirmed               1\n",
            "Unverified                1\n",
            "Under investigation       1\n",
            "Boatomg                   1\n",
            "Name: Type, dtype: int64\n"
          ]
        }
      ]
    },
    {
      "cell_type": "code",
      "source": [
        "# replace boatomg with boating - assume mistake\n",
        "\n",
        "s_df[var]= s_df[var].replace(\"Boatomg\",\"Boating\")"
      ],
      "metadata": {
        "id": "2-TXhm9uMiau"
      },
      "id": "2-TXhm9uMiau",
      "execution_count": 47,
      "outputs": []
    },
    {
      "cell_type": "code",
      "source": [
        "#group questionable/unknown and change to nan because they aren't telling us anything\n",
        "\n",
        "s_df[var]= s_df[var].replace([\"Unverified\",\"Unconfirmed\",\"Questionable\",\"Under investigation\",\"Invalid\"],np.nan)"
      ],
      "metadata": {
        "id": "_B0btSxQNIvm"
      },
      "id": "_B0btSxQNIvm",
      "execution_count": 48,
      "outputs": []
    },
    {
      "cell_type": "code",
      "source": [
        "# group watercraft\n",
        "\n",
        "s_df[var]= s_df[var].replace([\"Sea Disaster\",\"Watercraft\",\"Boat\",\"Boating\"],\"Watercraft\")"
      ],
      "metadata": {
        "id": "YRFt6b1jNjWZ"
      },
      "id": "YRFt6b1jNjWZ",
      "execution_count": 49,
      "outputs": []
    },
    {
      "cell_type": "code",
      "source": [
        "#check values again\n",
        "\n",
        "print(s_df[var].unique())\n",
        "print(s_df[var].value_counts())"
      ],
      "metadata": {
        "colab": {
          "base_uri": "https://localhost:8080/"
        },
        "id": "OY3r_opzOpeY",
        "outputId": "74f49837-3a29-470a-e1c8-aab15ca23577"
      },
      "id": "OY3r_opzOpeY",
      "execution_count": 50,
      "outputs": [
        {
          "output_type": "stream",
          "name": "stdout",
          "text": [
            "['Unprovoked' 'Provoked' nan 'Watercraft']\n",
            "Unprovoked    4716\n",
            "Provoked       593\n",
            "Watercraft     583\n",
            "Name: Type, dtype: int64\n"
          ]
        }
      ]
    },
    {
      "cell_type": "code",
      "source": [
        "#Q2 part 3\n",
        "\n",
        "#import csv from internet\n",
        "url = 'http://www.vcsc.virginia.gov/pretrialdataproject/October%202017%20Cohort_Virginia%20Pretrial%20Data%20Project_Deidentified%20FINAL%20Update_10272021.csv'\n",
        "df = pd.read_csv(url,low_memory=False)"
      ],
      "metadata": {
        "id": "TMUi22rKOxvC"
      },
      "id": "TMUi22rKOxvC",
      "execution_count": 52,
      "outputs": []
    },
    {
      "cell_type": "code",
      "source": [
        "#look at values\n",
        "\n",
        "var = 'WhetherDefendantWasReleasedPretrial'\n",
        "\n",
        "print(df[var].value_counts())"
      ],
      "metadata": {
        "id": "S_mCuE3OPLxy",
        "outputId": "4cba1219-0a84-412e-ec6e-17efc63814d9",
        "colab": {
          "base_uri": "https://localhost:8080/"
        }
      },
      "id": "S_mCuE3OPLxy",
      "execution_count": 53,
      "outputs": [
        {
          "output_type": "stream",
          "name": "stdout",
          "text": [
            "1    19154\n",
            "0     3801\n",
            "9       31\n",
            "Name: WhetherDefendantWasReleasedPretrial, dtype: int64\n"
          ]
        }
      ]
    },
    {
      "cell_type": "code",
      "source": [
        "#rename column with something shorter that makes more sense\n",
        "\n",
        "df = df.rename(columns = {\"WhetherDefendantWasReleasedPretrial\":\"released\"})"
      ],
      "metadata": {
        "id": "IqKs6G9NPW0N"
      },
      "id": "IqKs6G9NPW0N",
      "execution_count": 56,
      "outputs": []
    },
    {
      "cell_type": "code",
      "source": [
        "#from codebook, know that the value 9 means missing, so replace all 9s with nans\n",
        "\n",
        "df[\"released\"] = df[\"released\"].replace(9, np.nan)"
      ],
      "metadata": {
        "id": "wOgoHSocPq4G"
      },
      "id": "wOgoHSocPq4G",
      "execution_count": 57,
      "outputs": []
    },
    {
      "cell_type": "code",
      "source": [
        "#recheck value counts\n",
        "print(df[\"released\"].value_counts())\n"
      ],
      "metadata": {
        "id": "a0PVJAGiQQIg",
        "outputId": "ca29b07b-6a00-4673-97f7-017776ff9f6c",
        "colab": {
          "base_uri": "https://localhost:8080/"
        }
      },
      "id": "a0PVJAGiQQIg",
      "execution_count": 58,
      "outputs": [
        {
          "output_type": "stream",
          "name": "stdout",
          "text": [
            "1.0    19154\n",
            "0.0     3801\n",
            "Name: released, dtype: int64\n"
          ]
        }
      ]
    },
    {
      "cell_type": "markdown",
      "id": "649494cd-cfd6-4f80-992a-9994fc19e1d5",
      "metadata": {
        "id": "649494cd-cfd6-4f80-992a-9994fc19e1d5"
      },
      "source": [
        "**Q3.** Many important datasets contain a race variable, typically limited to a handful of values often including Black, White, Asian, Latino, and Indigenous. This question looks at data gathering efforts on this variable by the U.S. Federal government.\n",
        "\n",
        "1. How did the most recent US Census gather data on race?\n",
        "2. Why do we gather these data? What role do these kinds of data play in politics and society? Why does data quality matter?\n",
        "3. Please provide a constructive criticism of how the Census was conducted: What was done well? What do you think was missing? How should future large scale surveys be adjusted to best reflect the diversity of the population? Could some of the Census' good practices be adopted more widely to gather richer and more useful data?\n",
        "4. How did the Census gather data on sex and gender? Please provide a similar constructive criticism of their practices.\n",
        "5. When it comes to cleaning data, what concerns do you have about protected characteristics like sex, gender, sexual identity, or race? What challenges can you imagine arising when there are missing values? What good or bad practices might people adopt, and why?\n",
        "6. Suppose someone invented an algorithm to impute values for protected characteristics like race, gender, sex, or sexuality. What kinds of concerns would you have?"
      ]
    }
  ],
  "metadata": {
    "colab": {
      "provenance": []
    },
    "kernelspec": {
      "display_name": "Python 3 (ipykernel)",
      "language": "python",
      "name": "python3"
    },
    "language_info": {
      "codemirror_mode": {
        "name": "ipython",
        "version": 3
      },
      "file_extension": ".py",
      "mimetype": "text/x-python",
      "name": "python",
      "nbconvert_exporter": "python",
      "pygments_lexer": "ipython3",
      "version": "3.10.4"
    }
  },
  "nbformat": 4,
  "nbformat_minor": 5
}